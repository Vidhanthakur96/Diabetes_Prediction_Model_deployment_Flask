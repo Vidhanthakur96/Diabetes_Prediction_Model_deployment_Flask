{
 "cells": [
  {
   "cell_type": "code",
   "execution_count": 33,
   "metadata": {},
   "outputs": [],
   "source": [
    "#import all the relevent packages\n",
    "import numpy as np\n",
    "import pandas as pd\n",
    "from flask import Flask, request, render_template\n",
    "import pickle"
   ]
  },
  {
   "cell_type": "code",
   "execution_count": 34,
   "metadata": {},
   "outputs": [],
   "source": [
    "app=Flask(__name__,template_folder='C:/Users/vidha/Flask/Templates')"
   ]
  },
  {
   "cell_type": "code",
   "execution_count": 35,
   "metadata": {},
   "outputs": [],
   "source": [
    "#point to the homepage and  pass it to the model prediction page\n",
    "@app.route('/',methods =[\"GET\", \"POST\"])\n",
    "def home():\n",
    "    return render_template('sample.html')\n",
    "def prediction(to_pred_list):\n",
    "    #print(to_pred_list)\n",
    "    x=np.array(to_pred_list).reshape(1,8)\n",
    "    load_model=pickle.load(open('C:/Users/vidha/Flask/model.pkl','rb'))\n",
    "    result=load_model.predict(x)\n",
    "    return result[0]\n",
    "@app.route('/result',methods=['POST'])\n",
    "#collect the data from html page pass it to model function get the result and display it on the page\n",
    "def results():\n",
    "    if request.method==\"POST\":\n",
    "        to_pred_list=request.form.to_dict()\n",
    "        to_pred_list=list(to_pred_list.values())\n",
    "        to_pred_list=list(map(float,to_pred_list))\n",
    "        result = prediction(to_pred_list)\n",
    "        if (result==1):\n",
    "            decision =\"This patient is diabetic\"\n",
    "        else:\n",
    "            decision=\"This patient is not diabetic\"\n",
    "    return render_template('result.html',prediction=decision)"
   ]
  },
  {
   "cell_type": "code",
   "execution_count": 36,
   "metadata": {},
   "outputs": [
    {
     "name": "stdout",
     "output_type": "stream",
     "text": [
      " * Serving Flask app \"__main__\" (lazy loading)\n",
      " * Environment: production\n",
      "   WARNING: This is a development server. Do not use it in a production deployment.\n",
      "   Use a production WSGI server instead.\n",
      " * Debug mode: on\n"
     ]
    },
    {
     "name": "stderr",
     "output_type": "stream",
     "text": [
      " * Running on http://127.0.0.1:5000/ (Press CTRL+C to quit)\n",
      "127.0.0.1 - - [02/Apr/2021 00:23:02] \"\u001b[37mGET / HTTP/1.1\u001b[0m\" 200 -\n",
      "127.0.0.1 - - [02/Apr/2021 00:23:36] \"\u001b[37mPOST /result HTTP/1.1\u001b[0m\" 200 -\n",
      "127.0.0.1 - - [02/Apr/2021 00:25:33] \"\u001b[37mGET / HTTP/1.1\u001b[0m\" 200 -\n",
      "127.0.0.1 - - [02/Apr/2021 00:26:13] \"\u001b[37mPOST /result HTTP/1.1\u001b[0m\" 200 -\n"
     ]
    }
   ],
   "source": [
    "if __name__=='__main__':\n",
    "    app.run(debug=True, use_reloader=False)\n",
    "    app.config['TEMPLATES_AUTO_RELOAD']=True\n"
   ]
  },
  {
   "cell_type": "code",
   "execution_count": null,
   "metadata": {},
   "outputs": [],
   "source": []
  }
 ],
 "metadata": {
  "kernelspec": {
   "display_name": "Python 3",
   "language": "python",
   "name": "python3"
  },
  "language_info": {
   "codemirror_mode": {
    "name": "ipython",
    "version": 3
   },
   "file_extension": ".py",
   "mimetype": "text/x-python",
   "name": "python",
   "nbconvert_exporter": "python",
   "pygments_lexer": "ipython3",
   "version": "3.8.5"
  }
 },
 "nbformat": 4,
 "nbformat_minor": 4
}
